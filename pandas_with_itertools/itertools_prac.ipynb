{
 "cells": [
  {
   "cell_type": "code",
   "execution_count": 1,
   "metadata": {},
   "outputs": [],
   "source": [
    "import pandas as pd\n",
    "import numpy as np\n",
    "import itertools"
   ]
  },
  {
   "cell_type": "code",
   "execution_count": 2,
   "metadata": {},
   "outputs": [],
   "source": [
    "df = pd.read_csv('input.csv')"
   ]
  },
  {
   "cell_type": "code",
   "execution_count": 3,
   "metadata": {},
   "outputs": [],
   "source": [
    "arg = [df[col].dropna().to_list() for col in df.columns]\n",
    "iter = itertools.product(*arg)"
   ]
  },
  {
   "cell_type": "code",
   "execution_count": 4,
   "metadata": {},
   "outputs": [],
   "source": [
    "\n",
    "full_comb = pd.DataFrame()\n",
    "for row in iter:\n",
    "    full_comb = pd.concat([full_comb, pd.DataFrame(row).transpose()], axis=0)\n",
    "full_comb.columns =df.columns"
   ]
  },
  {
   "cell_type": "code",
   "execution_count": 5,
   "metadata": {},
   "outputs": [
    {
     "data": {
      "text/html": [
       "<div>\n",
       "<style scoped>\n",
       "    .dataframe tbody tr th:only-of-type {\n",
       "        vertical-align: middle;\n",
       "    }\n",
       "\n",
       "    .dataframe tbody tr th {\n",
       "        vertical-align: top;\n",
       "    }\n",
       "\n",
       "    .dataframe thead th {\n",
       "        text-align: right;\n",
       "    }\n",
       "</style>\n",
       "<table border=\"1\" class=\"dataframe\">\n",
       "  <thead>\n",
       "    <tr style=\"text-align: right;\">\n",
       "      <th></th>\n",
       "      <th>TgtCndMovDirectStatusFlg</th>\n",
       "      <th>TgtCndGndVelLong</th>\n",
       "      <th>TgtCndGndVelLat</th>\n",
       "      <th>TgtCndAbsHdAng</th>\n",
       "      <th>TgtCndConf</th>\n",
       "      <th>InitEnableFlg</th>\n",
       "    </tr>\n",
       "  </thead>\n",
       "  <tbody>\n",
       "    <tr>\n",
       "      <th>0</th>\n",
       "      <td>Default</td>\n",
       "      <td>Stop</td>\n",
       "      <td>Stop</td>\n",
       "      <td>0</td>\n",
       "      <td>VALID</td>\n",
       "      <td>VALID</td>\n",
       "    </tr>\n",
       "    <tr>\n",
       "      <th>1</th>\n",
       "      <td>Default</td>\n",
       "      <td>Stop</td>\n",
       "      <td>Stop</td>\n",
       "      <td>0</td>\n",
       "      <td>VALID</td>\n",
       "      <td>INVALID</td>\n",
       "    </tr>\n",
       "    <tr>\n",
       "      <th>2</th>\n",
       "      <td>Default</td>\n",
       "      <td>Stop</td>\n",
       "      <td>Stop</td>\n",
       "      <td>0</td>\n",
       "      <td>INVALID</td>\n",
       "      <td>VALID</td>\n",
       "    </tr>\n",
       "    <tr>\n",
       "      <th>3</th>\n",
       "      <td>Default</td>\n",
       "      <td>Stop</td>\n",
       "      <td>Stop</td>\n",
       "      <td>0</td>\n",
       "      <td>INVALID</td>\n",
       "      <td>INVALID</td>\n",
       "    </tr>\n",
       "    <tr>\n",
       "      <th>4</th>\n",
       "      <td>Default</td>\n",
       "      <td>Stop</td>\n",
       "      <td>Stop</td>\n",
       "      <td>(dx)</td>\n",
       "      <td>VALID</td>\n",
       "      <td>VALID</td>\n",
       "    </tr>\n",
       "    <tr>\n",
       "      <th>...</th>\n",
       "      <td>...</td>\n",
       "      <td>...</td>\n",
       "      <td>...</td>\n",
       "      <td>...</td>\n",
       "      <td>...</td>\n",
       "      <td>...</td>\n",
       "    </tr>\n",
       "    <tr>\n",
       "      <th>6295</th>\n",
       "      <td>Stationary</td>\n",
       "      <td>(-) -0.5mps up</td>\n",
       "      <td>(+-) 0.1mps down</td>\n",
       "      <td>(dy/dx) 50deg down</td>\n",
       "      <td>INVALID</td>\n",
       "      <td>INVALID</td>\n",
       "    </tr>\n",
       "    <tr>\n",
       "      <th>6296</th>\n",
       "      <td>Stationary</td>\n",
       "      <td>(-) -0.5mps up</td>\n",
       "      <td>(+-) 0.1mps down</td>\n",
       "      <td>(dy/dx) 50deg up</td>\n",
       "      <td>VALID</td>\n",
       "      <td>VALID</td>\n",
       "    </tr>\n",
       "    <tr>\n",
       "      <th>6297</th>\n",
       "      <td>Stationary</td>\n",
       "      <td>(-) -0.5mps up</td>\n",
       "      <td>(+-) 0.1mps down</td>\n",
       "      <td>(dy/dx) 50deg up</td>\n",
       "      <td>VALID</td>\n",
       "      <td>INVALID</td>\n",
       "    </tr>\n",
       "    <tr>\n",
       "      <th>6298</th>\n",
       "      <td>Stationary</td>\n",
       "      <td>(-) -0.5mps up</td>\n",
       "      <td>(+-) 0.1mps down</td>\n",
       "      <td>(dy/dx) 50deg up</td>\n",
       "      <td>INVALID</td>\n",
       "      <td>VALID</td>\n",
       "    </tr>\n",
       "    <tr>\n",
       "      <th>6299</th>\n",
       "      <td>Stationary</td>\n",
       "      <td>(-) -0.5mps up</td>\n",
       "      <td>(+-) 0.1mps down</td>\n",
       "      <td>(dy/dx) 50deg up</td>\n",
       "      <td>INVALID</td>\n",
       "      <td>INVALID</td>\n",
       "    </tr>\n",
       "  </tbody>\n",
       "</table>\n",
       "<p>6300 rows × 6 columns</p>\n",
       "</div>"
      ],
      "text/plain": [
       "     TgtCndMovDirectStatusFlg TgtCndGndVelLong   TgtCndGndVelLat  \\\n",
       "0                     Default             Stop              Stop   \n",
       "1                     Default             Stop              Stop   \n",
       "2                     Default             Stop              Stop   \n",
       "3                     Default             Stop              Stop   \n",
       "4                     Default             Stop              Stop   \n",
       "...                       ...              ...               ...   \n",
       "6295               Stationary   (-) -0.5mps up  (+-) 0.1mps down   \n",
       "6296               Stationary   (-) -0.5mps up  (+-) 0.1mps down   \n",
       "6297               Stationary   (-) -0.5mps up  (+-) 0.1mps down   \n",
       "6298               Stationary   (-) -0.5mps up  (+-) 0.1mps down   \n",
       "6299               Stationary   (-) -0.5mps up  (+-) 0.1mps down   \n",
       "\n",
       "          TgtCndAbsHdAng TgtCndConf InitEnableFlg  \n",
       "0                      0      VALID         VALID  \n",
       "1                      0      VALID       INVALID  \n",
       "2                      0    INVALID         VALID  \n",
       "3                      0    INVALID       INVALID  \n",
       "4                   (dx)      VALID         VALID  \n",
       "...                  ...        ...           ...  \n",
       "6295  (dy/dx) 50deg down    INVALID       INVALID  \n",
       "6296    (dy/dx) 50deg up      VALID         VALID  \n",
       "6297    (dy/dx) 50deg up      VALID       INVALID  \n",
       "6298    (dy/dx) 50deg up    INVALID         VALID  \n",
       "6299    (dy/dx) 50deg up    INVALID       INVALID  \n",
       "\n",
       "[6300 rows x 6 columns]"
      ]
     },
     "execution_count": 5,
     "metadata": {},
     "output_type": "execute_result"
    }
   ],
   "source": [
    "full_comb.reset_index(drop=True,inplace=True)\n",
    "full_comb"
   ]
  },
  {
   "cell_type": "code",
   "execution_count": null,
   "metadata": {},
   "outputs": [],
   "source": [
    "full_comb.to_csv(\"output.csv\")"
   ]
  },
  {
   "cell_type": "code",
   "execution_count": null,
   "metadata": {},
   "outputs": [],
   "source": []
  }
 ],
 "metadata": {
  "kernelspec": {
   "display_name": "Python 3.6.13 ('dacon22')",
   "language": "python",
   "name": "python3"
  },
  "language_info": {
   "codemirror_mode": {
    "name": "ipython",
    "version": 3
   },
   "file_extension": ".py",
   "mimetype": "text/x-python",
   "name": "python",
   "nbconvert_exporter": "python",
   "pygments_lexer": "ipython3",
   "version": "3.6.13"
  },
  "orig_nbformat": 4,
  "vscode": {
   "interpreter": {
    "hash": "69899b91e416e09cbb27d402c51347a8a77b1a58fc13368d23e9699dd8914391"
   }
  }
 },
 "nbformat": 4,
 "nbformat_minor": 2
}
